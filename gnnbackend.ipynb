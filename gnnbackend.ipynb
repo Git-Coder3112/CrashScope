{
  "nbformat": 4,
  "nbformat_minor": 0,
  "metadata": {
    "colab": {
      "provenance": [],
      "gpuType": "T4",
      "include_colab_link": true
    },
    "kernelspec": {
      "name": "python3",
      "display_name": "Python 3"
    },
    "language_info": {
      "name": "python"
    },
    "accelerator": "GPU"
  },
  "cells": [
    {
      "cell_type": "markdown",
      "metadata": {
        "id": "view-in-github",
        "colab_type": "text"
      },
      "source": [
        "<a href=\"https://colab.research.google.com/github/Git-Coder3112/CrashScope/blob/main/gnnbackend.ipynb\" target=\"_parent\"><img src=\"https://colab.research.google.com/assets/colab-badge.svg\" alt=\"Open In Colab\"/></a>"
      ]
    },
    {
      "cell_type": "code",
      "execution_count": null,
      "metadata": {
        "colab": {
          "base_uri": "https://localhost:8080/"
        },
        "id": "tgaw314T9E8c",
        "outputId": "20c633ba-54fc-461e-8ae9-fbad2c44a2fc"
      },
      "outputs": [
        {
          "output_type": "stream",
          "name": "stdout",
          "text": [
            "Found existing installation: torch_scatter 2.1.2+pt26cpu\n",
            "Uninstalling torch_scatter-2.1.2+pt26cpu:\n",
            "  Successfully uninstalled torch_scatter-2.1.2+pt26cpu\n",
            "\u001b[33mWARNING: Skipping torch-sparse as it is not installed.\u001b[0m\u001b[33m\n",
            "\u001b[0m\u001b[33mWARNING: Skipping torch-cluster as it is not installed.\u001b[0m\u001b[33m\n",
            "\u001b[0m\u001b[33mWARNING: Skipping torch-spline-conv as it is not installed.\u001b[0m\u001b[33m\n",
            "\u001b[0m\u001b[33mWARNING: Skipping torch-geometric as it is not installed.\u001b[0m\u001b[33m\n",
            "\u001b[0mLooking in links: https://data.pyg.org/whl/torch-2.6.0+cpu.html\n",
            "Collecting torch-scatter\n",
            "  Using cached https://data.pyg.org/whl/torch-2.6.0%2Bcpu/torch_scatter-2.1.2%2Bpt26cpu-cp311-cp311-linux_x86_64.whl (545 kB)\n",
            "Installing collected packages: torch-scatter\n",
            "Successfully installed torch-scatter-2.1.2+pt26cpu\n",
            "Looking in links: https://data.pyg.org/whl/torch-2.6.0+cpu.html\n",
            "Collecting torch-sparse\n",
            "  Using cached https://data.pyg.org/whl/torch-2.6.0%2Bcpu/torch_sparse-0.6.18%2Bpt26cpu-cp311-cp311-linux_x86_64.whl (1.1 MB)\n",
            "Requirement already satisfied: scipy in /usr/local/lib/python3.11/dist-packages (from torch-sparse) (1.14.1)\n",
            "Requirement already satisfied: numpy<2.3,>=1.23.5 in /usr/local/lib/python3.11/dist-packages (from scipy->torch-sparse) (2.0.2)\n",
            "Installing collected packages: torch-sparse\n",
            "Successfully installed torch-sparse-0.6.18+pt26cpu\n",
            "Looking in links: https://data.pyg.org/whl/torch-2.6.0+cpu.html\n",
            "Collecting torch-cluster\n",
            "  Using cached https://data.pyg.org/whl/torch-2.6.0%2Bcpu/torch_cluster-1.6.3%2Bpt26cpu-cp311-cp311-linux_x86_64.whl (781 kB)\n",
            "Requirement already satisfied: scipy in /usr/local/lib/python3.11/dist-packages (from torch-cluster) (1.14.1)\n",
            "Requirement already satisfied: numpy<2.3,>=1.23.5 in /usr/local/lib/python3.11/dist-packages (from scipy->torch-cluster) (2.0.2)\n",
            "Installing collected packages: torch-cluster\n",
            "Successfully installed torch-cluster-1.6.3+pt26cpu\n",
            "Looking in links: https://data.pyg.org/whl/torch-2.6.0+cpu.html\n",
            "Collecting torch-spline-conv\n",
            "  Using cached https://data.pyg.org/whl/torch-2.6.0%2Bcpu/torch_spline_conv-1.2.2%2Bpt26cpu-cp311-cp311-linux_x86_64.whl (241 kB)\n",
            "Installing collected packages: torch-spline-conv\n",
            "Successfully installed torch-spline-conv-1.2.2+pt26cpu\n",
            "Collecting torch-geometric\n",
            "  Using cached torch_geometric-2.6.1-py3-none-any.whl.metadata (63 kB)\n",
            "Requirement already satisfied: aiohttp in /usr/local/lib/python3.11/dist-packages (from torch-geometric) (3.11.15)\n",
            "Requirement already satisfied: fsspec in /usr/local/lib/python3.11/dist-packages (from torch-geometric) (2025.3.2)\n",
            "Requirement already satisfied: jinja2 in /usr/local/lib/python3.11/dist-packages (from torch-geometric) (3.1.6)\n",
            "Requirement already satisfied: numpy in /usr/local/lib/python3.11/dist-packages (from torch-geometric) (2.0.2)\n",
            "Requirement already satisfied: psutil>=5.8.0 in /usr/local/lib/python3.11/dist-packages (from torch-geometric) (5.9.5)\n",
            "Requirement already satisfied: pyparsing in /usr/local/lib/python3.11/dist-packages (from torch-geometric) (3.2.3)\n",
            "Requirement already satisfied: requests in /usr/local/lib/python3.11/dist-packages (from torch-geometric) (2.32.3)\n",
            "Requirement already satisfied: tqdm in /usr/local/lib/python3.11/dist-packages (from torch-geometric) (4.67.1)\n",
            "Requirement already satisfied: aiohappyeyeballs>=2.3.0 in /usr/local/lib/python3.11/dist-packages (from aiohttp->torch-geometric) (2.6.1)\n",
            "Requirement already satisfied: aiosignal>=1.1.2 in /usr/local/lib/python3.11/dist-packages (from aiohttp->torch-geometric) (1.3.2)\n",
            "Requirement already satisfied: attrs>=17.3.0 in /usr/local/lib/python3.11/dist-packages (from aiohttp->torch-geometric) (25.3.0)\n",
            "Requirement already satisfied: frozenlist>=1.1.1 in /usr/local/lib/python3.11/dist-packages (from aiohttp->torch-geometric) (1.6.0)\n",
            "Requirement already satisfied: multidict<7.0,>=4.5 in /usr/local/lib/python3.11/dist-packages (from aiohttp->torch-geometric) (6.4.3)\n",
            "Requirement already satisfied: propcache>=0.2.0 in /usr/local/lib/python3.11/dist-packages (from aiohttp->torch-geometric) (0.3.1)\n",
            "Requirement already satisfied: yarl<2.0,>=1.17.0 in /usr/local/lib/python3.11/dist-packages (from aiohttp->torch-geometric) (1.20.0)\n",
            "Requirement already satisfied: MarkupSafe>=2.0 in /usr/local/lib/python3.11/dist-packages (from jinja2->torch-geometric) (3.0.2)\n",
            "Requirement already satisfied: charset-normalizer<4,>=2 in /usr/local/lib/python3.11/dist-packages (from requests->torch-geometric) (3.4.1)\n",
            "Requirement already satisfied: idna<4,>=2.5 in /usr/local/lib/python3.11/dist-packages (from requests->torch-geometric) (3.10)\n",
            "Requirement already satisfied: urllib3<3,>=1.21.1 in /usr/local/lib/python3.11/dist-packages (from requests->torch-geometric) (2.3.0)\n",
            "Requirement already satisfied: certifi>=2017.4.17 in /usr/local/lib/python3.11/dist-packages (from requests->torch-geometric) (2025.1.31)\n",
            "Using cached torch_geometric-2.6.1-py3-none-any.whl (1.1 MB)\n",
            "Installing collected packages: torch-geometric\n",
            "Successfully installed torch-geometric-2.6.1\n",
            "Requirement already satisfied: scikit-learn in /usr/local/lib/python3.11/dist-packages (1.6.1)\n",
            "Requirement already satisfied: pandas in /usr/local/lib/python3.11/dist-packages (2.2.2)\n",
            "Requirement already satisfied: numpy in /usr/local/lib/python3.11/dist-packages (2.0.2)\n",
            "Requirement already satisfied: matplotlib in /usr/local/lib/python3.11/dist-packages (3.10.0)\n",
            "Requirement already satisfied: seaborn in /usr/local/lib/python3.11/dist-packages (0.13.2)\n",
            "Requirement already satisfied: scipy>=1.6.0 in /usr/local/lib/python3.11/dist-packages (from scikit-learn) (1.14.1)\n",
            "Requirement already satisfied: joblib>=1.2.0 in /usr/local/lib/python3.11/dist-packages (from scikit-learn) (1.4.2)\n",
            "Requirement already satisfied: threadpoolctl>=3.1.0 in /usr/local/lib/python3.11/dist-packages (from scikit-learn) (3.6.0)\n",
            "Requirement already satisfied: python-dateutil>=2.8.2 in /usr/local/lib/python3.11/dist-packages (from pandas) (2.8.2)\n",
            "Requirement already satisfied: pytz>=2020.1 in /usr/local/lib/python3.11/dist-packages (from pandas) (2025.2)\n",
            "Requirement already satisfied: tzdata>=2022.7 in /usr/local/lib/python3.11/dist-packages (from pandas) (2025.2)\n",
            "Requirement already satisfied: contourpy>=1.0.1 in /usr/local/lib/python3.11/dist-packages (from matplotlib) (1.3.2)\n",
            "Requirement already satisfied: cycler>=0.10 in /usr/local/lib/python3.11/dist-packages (from matplotlib) (0.12.1)\n",
            "Requirement already satisfied: fonttools>=4.22.0 in /usr/local/lib/python3.11/dist-packages (from matplotlib) (4.57.0)\n",
            "Requirement already satisfied: kiwisolver>=1.3.1 in /usr/local/lib/python3.11/dist-packages (from matplotlib) (1.4.8)\n",
            "Requirement already satisfied: packaging>=20.0 in /usr/local/lib/python3.11/dist-packages (from matplotlib) (24.2)\n",
            "Requirement already satisfied: pillow>=8 in /usr/local/lib/python3.11/dist-packages (from matplotlib) (11.1.0)\n",
            "Requirement already satisfied: pyparsing>=2.3.1 in /usr/local/lib/python3.11/dist-packages (from matplotlib) (3.2.3)\n",
            "Requirement already satisfied: six>=1.5 in /usr/local/lib/python3.11/dist-packages (from python-dateutil>=2.8.2->pandas) (1.17.0)\n"
          ]
        }
      ],
      "source": [
        "\n",
        "!pip uninstall -y torch-scatter torch-sparse torch-cluster torch-spline-conv torch-geometric\n",
        "\n",
        "\n",
        "!pip install torch-scatter -f https://data.pyg.org/whl/torch-2.6.0+cpu.html\n",
        "!pip install torch-sparse -f https://data.pyg.org/whl/torch-2.6.0+cpu.html\n",
        "!pip install torch-cluster -f https://data.pyg.org/whl/torch-2.6.0+cpu.html\n",
        "!pip install torch-spline-conv -f https://data.pyg.org/whl/torch-2.6.0+cpu.html\n",
        "!pip install torch-geometric\n",
        "\n",
        "\n",
        "!pip install scikit-learn pandas numpy matplotlib seaborn\n"
      ]
    },
    {
      "cell_type": "code",
      "source": [
        "import pandas as pd\n",
        "import numpy as np\n",
        "import matplotlib.pyplot as plt\n",
        "import seaborn as sns\n",
        "import torch\n",
        "import torch.nn.functional as F\n",
        "from sklearn.preprocessing import LabelEncoder, StandardScaler\n",
        "from sklearn.model_selection import train_test_split\n",
        "from sklearn.neighbors import kneighbors_graph\n",
        "from torch_geometric.data import Data\n",
        "from torch_geometric.nn import SAGEConv, GCNConv, GATConv\n",
        "from torch.optim import Adam\n",
        "from sklearn.metrics import accuracy_score, classification_report, confusion_matrix\n",
        "from sklearn.manifold import TSNE\n",
        "from sklearn.impute import SimpleImputer\n"
      ],
      "metadata": {
        "id": "qgxAFehF9UOp"
      },
      "execution_count": null,
      "outputs": []
    },
    {
      "cell_type": "code",
      "source": [
        "# Load dataset\n",
        "file_path = '/content/Combined_Dataset_with_Severity_10k.csv'  # Change if needed\n",
        "df = pd.read_csv(file_path)\n",
        "\n",
        "# Show first few rows\n",
        "df.head()\n"
      ],
      "metadata": {
        "colab": {
          "base_uri": "https://localhost:8080/",
          "height": 518
        },
        "id": "nn_lNwj49UQh",
        "outputId": "9596bc78-f432-47e7-bf48-94974c0117a7"
      },
      "execution_count": null,
      "outputs": [
        {
          "output_type": "execute_result",
          "data": {
            "text/plain": [
              "  Road Type   Road Class  Speed Limit Area Type  \\\n",
              "0     Urban      Primary           60     Rural   \n",
              "1     Rural  Residential           70     Rural   \n",
              "2    B Road      Country           70     Rural   \n",
              "3     Rural  Residential           70     Rural   \n",
              "4     Rural  Residential           50     Rural   \n",
              "\n",
              "                              Junction Location          Junction Control  \\\n",
              "0        Not at or within 20 meters of junction                 Stop sign   \n",
              "1        Not at or within 20 meters of junction                 Stop sign   \n",
              "2        Not at or within 20 meters of junction       Auto traffic signal   \n",
              "3  Mid Junction - on roundabout or on main road  Give way or uncontrolled   \n",
              "4  Mid Junction - on roundabout or on main road       Auto traffic signal   \n",
              "\n",
              "                     Junction Detail  Carriageway  \\\n",
              "0  More than 4 arms (not roundabout)  Carriageway   \n",
              "1                         Roundabout  Carriageway   \n",
              "2                          Slip road  Carriageway   \n",
              "3                     Other junction  Carriageway   \n",
              "4          Private drive or entrance  Carriageway   \n",
              "\n",
              "                                           Hazards Road Surface Conditions  \\\n",
              "0                             Vehicle load on road                    Snow   \n",
              "1                             Other object on road                     Dry   \n",
              "2  Any animal in carriageway (except ridden horse)            Frost or ice   \n",
              "3                             Other object on road            Frost or ice   \n",
              "4                                Previous accident                     Dry   \n",
              "\n",
              "                           Vehicle Type             Light Conditions  \\\n",
              "0                             Taxi cars        Darkness - lights lit   \n",
              "1                         Other vehicle                     Daylight   \n",
              "2  Bus or coach (17 or more pass seats)  Darkness - lighting unknown   \n",
              "3                                   Car      Darkness - lights unlit   \n",
              "4           Goods 7.5 tons mgw and over       Darkness - no lighting   \n",
              "\n",
              "     Weather Conditions Severity Level  \n",
              "0                 Other            Low  \n",
              "1  Rain - no high winds            Low  \n",
              "2               Unknown            Low  \n",
              "3  Raining + high winds            Low  \n",
              "4     Fine + high winds         Medium  "
            ],
            "text/html": [
              "\n",
              "  <div id=\"df-b8781275-c081-4fd7-8a32-2ff4839af99c\" class=\"colab-df-container\">\n",
              "    <div>\n",
              "<style scoped>\n",
              "    .dataframe tbody tr th:only-of-type {\n",
              "        vertical-align: middle;\n",
              "    }\n",
              "\n",
              "    .dataframe tbody tr th {\n",
              "        vertical-align: top;\n",
              "    }\n",
              "\n",
              "    .dataframe thead th {\n",
              "        text-align: right;\n",
              "    }\n",
              "</style>\n",
              "<table border=\"1\" class=\"dataframe\">\n",
              "  <thead>\n",
              "    <tr style=\"text-align: right;\">\n",
              "      <th></th>\n",
              "      <th>Road Type</th>\n",
              "      <th>Road Class</th>\n",
              "      <th>Speed Limit</th>\n",
              "      <th>Area Type</th>\n",
              "      <th>Junction Location</th>\n",
              "      <th>Junction Control</th>\n",
              "      <th>Junction Detail</th>\n",
              "      <th>Carriageway</th>\n",
              "      <th>Hazards</th>\n",
              "      <th>Road Surface Conditions</th>\n",
              "      <th>Vehicle Type</th>\n",
              "      <th>Light Conditions</th>\n",
              "      <th>Weather Conditions</th>\n",
              "      <th>Severity Level</th>\n",
              "    </tr>\n",
              "  </thead>\n",
              "  <tbody>\n",
              "    <tr>\n",
              "      <th>0</th>\n",
              "      <td>Urban</td>\n",
              "      <td>Primary</td>\n",
              "      <td>60</td>\n",
              "      <td>Rural</td>\n",
              "      <td>Not at or within 20 meters of junction</td>\n",
              "      <td>Stop sign</td>\n",
              "      <td>More than 4 arms (not roundabout)</td>\n",
              "      <td>Carriageway</td>\n",
              "      <td>Vehicle load on road</td>\n",
              "      <td>Snow</td>\n",
              "      <td>Taxi cars</td>\n",
              "      <td>Darkness - lights lit</td>\n",
              "      <td>Other</td>\n",
              "      <td>Low</td>\n",
              "    </tr>\n",
              "    <tr>\n",
              "      <th>1</th>\n",
              "      <td>Rural</td>\n",
              "      <td>Residential</td>\n",
              "      <td>70</td>\n",
              "      <td>Rural</td>\n",
              "      <td>Not at or within 20 meters of junction</td>\n",
              "      <td>Stop sign</td>\n",
              "      <td>Roundabout</td>\n",
              "      <td>Carriageway</td>\n",
              "      <td>Other object on road</td>\n",
              "      <td>Dry</td>\n",
              "      <td>Other vehicle</td>\n",
              "      <td>Daylight</td>\n",
              "      <td>Rain - no high winds</td>\n",
              "      <td>Low</td>\n",
              "    </tr>\n",
              "    <tr>\n",
              "      <th>2</th>\n",
              "      <td>B Road</td>\n",
              "      <td>Country</td>\n",
              "      <td>70</td>\n",
              "      <td>Rural</td>\n",
              "      <td>Not at or within 20 meters of junction</td>\n",
              "      <td>Auto traffic signal</td>\n",
              "      <td>Slip road</td>\n",
              "      <td>Carriageway</td>\n",
              "      <td>Any animal in carriageway (except ridden horse)</td>\n",
              "      <td>Frost or ice</td>\n",
              "      <td>Bus or coach (17 or more pass seats)</td>\n",
              "      <td>Darkness - lighting unknown</td>\n",
              "      <td>Unknown</td>\n",
              "      <td>Low</td>\n",
              "    </tr>\n",
              "    <tr>\n",
              "      <th>3</th>\n",
              "      <td>Rural</td>\n",
              "      <td>Residential</td>\n",
              "      <td>70</td>\n",
              "      <td>Rural</td>\n",
              "      <td>Mid Junction - on roundabout or on main road</td>\n",
              "      <td>Give way or uncontrolled</td>\n",
              "      <td>Other junction</td>\n",
              "      <td>Carriageway</td>\n",
              "      <td>Other object on road</td>\n",
              "      <td>Frost or ice</td>\n",
              "      <td>Car</td>\n",
              "      <td>Darkness - lights unlit</td>\n",
              "      <td>Raining + high winds</td>\n",
              "      <td>Low</td>\n",
              "    </tr>\n",
              "    <tr>\n",
              "      <th>4</th>\n",
              "      <td>Rural</td>\n",
              "      <td>Residential</td>\n",
              "      <td>50</td>\n",
              "      <td>Rural</td>\n",
              "      <td>Mid Junction - on roundabout or on main road</td>\n",
              "      <td>Auto traffic signal</td>\n",
              "      <td>Private drive or entrance</td>\n",
              "      <td>Carriageway</td>\n",
              "      <td>Previous accident</td>\n",
              "      <td>Dry</td>\n",
              "      <td>Goods 7.5 tons mgw and over</td>\n",
              "      <td>Darkness - no lighting</td>\n",
              "      <td>Fine + high winds</td>\n",
              "      <td>Medium</td>\n",
              "    </tr>\n",
              "  </tbody>\n",
              "</table>\n",
              "</div>\n",
              "    <div class=\"colab-df-buttons\">\n",
              "\n",
              "  <div class=\"colab-df-container\">\n",
              "    <button class=\"colab-df-convert\" onclick=\"convertToInteractive('df-b8781275-c081-4fd7-8a32-2ff4839af99c')\"\n",
              "            title=\"Convert this dataframe to an interactive table.\"\n",
              "            style=\"display:none;\">\n",
              "\n",
              "  <svg xmlns=\"http://www.w3.org/2000/svg\" height=\"24px\" viewBox=\"0 -960 960 960\">\n",
              "    <path d=\"M120-120v-720h720v720H120Zm60-500h600v-160H180v160Zm220 220h160v-160H400v160Zm0 220h160v-160H400v160ZM180-400h160v-160H180v160Zm440 0h160v-160H620v160ZM180-180h160v-160H180v160Zm440 0h160v-160H620v160Z\"/>\n",
              "  </svg>\n",
              "    </button>\n",
              "\n",
              "  <style>\n",
              "    .colab-df-container {\n",
              "      display:flex;\n",
              "      gap: 12px;\n",
              "    }\n",
              "\n",
              "    .colab-df-convert {\n",
              "      background-color: #E8F0FE;\n",
              "      border: none;\n",
              "      border-radius: 50%;\n",
              "      cursor: pointer;\n",
              "      display: none;\n",
              "      fill: #1967D2;\n",
              "      height: 32px;\n",
              "      padding: 0 0 0 0;\n",
              "      width: 32px;\n",
              "    }\n",
              "\n",
              "    .colab-df-convert:hover {\n",
              "      background-color: #E2EBFA;\n",
              "      box-shadow: 0px 1px 2px rgba(60, 64, 67, 0.3), 0px 1px 3px 1px rgba(60, 64, 67, 0.15);\n",
              "      fill: #174EA6;\n",
              "    }\n",
              "\n",
              "    .colab-df-buttons div {\n",
              "      margin-bottom: 4px;\n",
              "    }\n",
              "\n",
              "    [theme=dark] .colab-df-convert {\n",
              "      background-color: #3B4455;\n",
              "      fill: #D2E3FC;\n",
              "    }\n",
              "\n",
              "    [theme=dark] .colab-df-convert:hover {\n",
              "      background-color: #434B5C;\n",
              "      box-shadow: 0px 1px 3px 1px rgba(0, 0, 0, 0.15);\n",
              "      filter: drop-shadow(0px 1px 2px rgba(0, 0, 0, 0.3));\n",
              "      fill: #FFFFFF;\n",
              "    }\n",
              "  </style>\n",
              "\n",
              "    <script>\n",
              "      const buttonEl =\n",
              "        document.querySelector('#df-b8781275-c081-4fd7-8a32-2ff4839af99c button.colab-df-convert');\n",
              "      buttonEl.style.display =\n",
              "        google.colab.kernel.accessAllowed ? 'block' : 'none';\n",
              "\n",
              "      async function convertToInteractive(key) {\n",
              "        const element = document.querySelector('#df-b8781275-c081-4fd7-8a32-2ff4839af99c');\n",
              "        const dataTable =\n",
              "          await google.colab.kernel.invokeFunction('convertToInteractive',\n",
              "                                                    [key], {});\n",
              "        if (!dataTable) return;\n",
              "\n",
              "        const docLinkHtml = 'Like what you see? Visit the ' +\n",
              "          '<a target=\"_blank\" href=https://colab.research.google.com/notebooks/data_table.ipynb>data table notebook</a>'\n",
              "          + ' to learn more about interactive tables.';\n",
              "        element.innerHTML = '';\n",
              "        dataTable['output_type'] = 'display_data';\n",
              "        await google.colab.output.renderOutput(dataTable, element);\n",
              "        const docLink = document.createElement('div');\n",
              "        docLink.innerHTML = docLinkHtml;\n",
              "        element.appendChild(docLink);\n",
              "      }\n",
              "    </script>\n",
              "  </div>\n",
              "\n",
              "\n",
              "    <div id=\"df-5bc06b55-d0cf-4747-ab42-106d649f60dc\">\n",
              "      <button class=\"colab-df-quickchart\" onclick=\"quickchart('df-5bc06b55-d0cf-4747-ab42-106d649f60dc')\"\n",
              "                title=\"Suggest charts\"\n",
              "                style=\"display:none;\">\n",
              "\n",
              "<svg xmlns=\"http://www.w3.org/2000/svg\" height=\"24px\"viewBox=\"0 0 24 24\"\n",
              "     width=\"24px\">\n",
              "    <g>\n",
              "        <path d=\"M19 3H5c-1.1 0-2 .9-2 2v14c0 1.1.9 2 2 2h14c1.1 0 2-.9 2-2V5c0-1.1-.9-2-2-2zM9 17H7v-7h2v7zm4 0h-2V7h2v10zm4 0h-2v-4h2v4z\"/>\n",
              "    </g>\n",
              "</svg>\n",
              "      </button>\n",
              "\n",
              "<style>\n",
              "  .colab-df-quickchart {\n",
              "      --bg-color: #E8F0FE;\n",
              "      --fill-color: #1967D2;\n",
              "      --hover-bg-color: #E2EBFA;\n",
              "      --hover-fill-color: #174EA6;\n",
              "      --disabled-fill-color: #AAA;\n",
              "      --disabled-bg-color: #DDD;\n",
              "  }\n",
              "\n",
              "  [theme=dark] .colab-df-quickchart {\n",
              "      --bg-color: #3B4455;\n",
              "      --fill-color: #D2E3FC;\n",
              "      --hover-bg-color: #434B5C;\n",
              "      --hover-fill-color: #FFFFFF;\n",
              "      --disabled-bg-color: #3B4455;\n",
              "      --disabled-fill-color: #666;\n",
              "  }\n",
              "\n",
              "  .colab-df-quickchart {\n",
              "    background-color: var(--bg-color);\n",
              "    border: none;\n",
              "    border-radius: 50%;\n",
              "    cursor: pointer;\n",
              "    display: none;\n",
              "    fill: var(--fill-color);\n",
              "    height: 32px;\n",
              "    padding: 0;\n",
              "    width: 32px;\n",
              "  }\n",
              "\n",
              "  .colab-df-quickchart:hover {\n",
              "    background-color: var(--hover-bg-color);\n",
              "    box-shadow: 0 1px 2px rgba(60, 64, 67, 0.3), 0 1px 3px 1px rgba(60, 64, 67, 0.15);\n",
              "    fill: var(--button-hover-fill-color);\n",
              "  }\n",
              "\n",
              "  .colab-df-quickchart-complete:disabled,\n",
              "  .colab-df-quickchart-complete:disabled:hover {\n",
              "    background-color: var(--disabled-bg-color);\n",
              "    fill: var(--disabled-fill-color);\n",
              "    box-shadow: none;\n",
              "  }\n",
              "\n",
              "  .colab-df-spinner {\n",
              "    border: 2px solid var(--fill-color);\n",
              "    border-color: transparent;\n",
              "    border-bottom-color: var(--fill-color);\n",
              "    animation:\n",
              "      spin 1s steps(1) infinite;\n",
              "  }\n",
              "\n",
              "  @keyframes spin {\n",
              "    0% {\n",
              "      border-color: transparent;\n",
              "      border-bottom-color: var(--fill-color);\n",
              "      border-left-color: var(--fill-color);\n",
              "    }\n",
              "    20% {\n",
              "      border-color: transparent;\n",
              "      border-left-color: var(--fill-color);\n",
              "      border-top-color: var(--fill-color);\n",
              "    }\n",
              "    30% {\n",
              "      border-color: transparent;\n",
              "      border-left-color: var(--fill-color);\n",
              "      border-top-color: var(--fill-color);\n",
              "      border-right-color: var(--fill-color);\n",
              "    }\n",
              "    40% {\n",
              "      border-color: transparent;\n",
              "      border-right-color: var(--fill-color);\n",
              "      border-top-color: var(--fill-color);\n",
              "    }\n",
              "    60% {\n",
              "      border-color: transparent;\n",
              "      border-right-color: var(--fill-color);\n",
              "    }\n",
              "    80% {\n",
              "      border-color: transparent;\n",
              "      border-right-color: var(--fill-color);\n",
              "      border-bottom-color: var(--fill-color);\n",
              "    }\n",
              "    90% {\n",
              "      border-color: transparent;\n",
              "      border-bottom-color: var(--fill-color);\n",
              "    }\n",
              "  }\n",
              "</style>\n",
              "\n",
              "      <script>\n",
              "        async function quickchart(key) {\n",
              "          const quickchartButtonEl =\n",
              "            document.querySelector('#' + key + ' button');\n",
              "          quickchartButtonEl.disabled = true;  // To prevent multiple clicks.\n",
              "          quickchartButtonEl.classList.add('colab-df-spinner');\n",
              "          try {\n",
              "            const charts = await google.colab.kernel.invokeFunction(\n",
              "                'suggestCharts', [key], {});\n",
              "          } catch (error) {\n",
              "            console.error('Error during call to suggestCharts:', error);\n",
              "          }\n",
              "          quickchartButtonEl.classList.remove('colab-df-spinner');\n",
              "          quickchartButtonEl.classList.add('colab-df-quickchart-complete');\n",
              "        }\n",
              "        (() => {\n",
              "          let quickchartButtonEl =\n",
              "            document.querySelector('#df-5bc06b55-d0cf-4747-ab42-106d649f60dc button');\n",
              "          quickchartButtonEl.style.display =\n",
              "            google.colab.kernel.accessAllowed ? 'block' : 'none';\n",
              "        })();\n",
              "      </script>\n",
              "    </div>\n",
              "\n",
              "    </div>\n",
              "  </div>\n"
            ],
            "application/vnd.google.colaboratory.intrinsic+json": {
              "type": "dataframe",
              "variable_name": "df",
              "summary": "{\n  \"name\": \"df\",\n  \"rows\": 10000,\n  \"fields\": [\n    {\n      \"column\": \"Road Type\",\n      \"properties\": {\n        \"dtype\": \"category\",\n        \"num_unique_values\": 5,\n        \"samples\": [\n          \"Rural\",\n          \"Motorway\",\n          \"B Road\"\n        ],\n        \"semantic_type\": \"\",\n        \"description\": \"\"\n      }\n    },\n    {\n      \"column\": \"Road Class\",\n      \"properties\": {\n        \"dtype\": \"category\",\n        \"num_unique_values\": 5,\n        \"samples\": [\n          \"Residential\",\n          \"Trunk\",\n          \"Country\"\n        ],\n        \"semantic_type\": \"\",\n        \"description\": \"\"\n      }\n    },\n    {\n      \"column\": \"Speed Limit\",\n      \"properties\": {\n        \"dtype\": \"number\",\n        \"std\": 14,\n        \"min\": 30,\n        \"max\": 70,\n        \"num_unique_values\": 5,\n        \"samples\": [\n          70,\n          30,\n          50\n        ],\n        \"semantic_type\": \"\",\n        \"description\": \"\"\n      }\n    },\n    {\n      \"column\": \"Area Type\",\n      \"properties\": {\n        \"dtype\": \"category\",\n        \"num_unique_values\": 2,\n        \"samples\": [\n          \"Urban\",\n          \"Rural\"\n        ],\n        \"semantic_type\": \"\",\n        \"description\": \"\"\n      }\n    },\n    {\n      \"column\": \"Junction Location\",\n      \"properties\": {\n        \"dtype\": \"category\",\n        \"num_unique_values\": 2,\n        \"samples\": [\n          \"Mid Junction - on roundabout or on main road\",\n          \"Not at or within 20 meters of junction\"\n        ],\n        \"semantic_type\": \"\",\n        \"description\": \"\"\n      }\n    },\n    {\n      \"column\": \"Junction Control\",\n      \"properties\": {\n        \"dtype\": \"category\",\n        \"num_unique_values\": 4,\n        \"samples\": [\n          \"Auto traffic signal\",\n          \"Authorized person\"\n        ],\n        \"semantic_type\": \"\",\n        \"description\": \"\"\n      }\n    },\n    {\n      \"column\": \"Junction Detail\",\n      \"properties\": {\n        \"dtype\": \"category\",\n        \"num_unique_values\": 9,\n        \"samples\": [\n          \"T or staggered junction\",\n          \"Roundabout\"\n        ],\n        \"semantic_type\": \"\",\n        \"description\": \"\"\n      }\n    },\n    {\n      \"column\": \"Carriageway\",\n      \"properties\": {\n        \"dtype\": \"category\",\n        \"num_unique_values\": 1,\n        \"samples\": [\n          \"Carriageway\"\n        ],\n        \"semantic_type\": \"\",\n        \"description\": \"\"\n      }\n    },\n    {\n      \"column\": \"Hazards\",\n      \"properties\": {\n        \"dtype\": \"category\",\n        \"num_unique_values\": 5,\n        \"samples\": [\n          \"Other object on road\"\n        ],\n        \"semantic_type\": \"\",\n        \"description\": \"\"\n      }\n    },\n    {\n      \"column\": \"Road Surface Conditions\",\n      \"properties\": {\n        \"dtype\": \"category\",\n        \"num_unique_values\": 5,\n        \"samples\": [\n          \"Dry\"\n        ],\n        \"semantic_type\": \"\",\n        \"description\": \"\"\n      }\n    },\n    {\n      \"column\": \"Vehicle Type\",\n      \"properties\": {\n        \"dtype\": \"category\",\n        \"num_unique_values\": 13,\n        \"samples\": [\n          \"Motorcycle <= 125cc\"\n        ],\n        \"semantic_type\": \"\",\n        \"description\": \"\"\n      }\n    },\n    {\n      \"column\": \"Light Conditions\",\n      \"properties\": {\n        \"dtype\": \"category\",\n        \"num_unique_values\": 5,\n        \"samples\": [\n          \"Daylight\"\n        ],\n        \"semantic_type\": \"\",\n        \"description\": \"\"\n      }\n    },\n    {\n      \"column\": \"Weather Conditions\",\n      \"properties\": {\n        \"dtype\": \"category\",\n        \"num_unique_values\": 8,\n        \"samples\": [\n          \"Rain - no high winds\"\n        ],\n        \"semantic_type\": \"\",\n        \"description\": \"\"\n      }\n    },\n    {\n      \"column\": \"Severity Level\",\n      \"properties\": {\n        \"dtype\": \"category\",\n        \"num_unique_values\": 3,\n        \"samples\": [\n          \"Low\"\n        ],\n        \"semantic_type\": \"\",\n        \"description\": \"\"\n      }\n    }\n  ]\n}"
            }
          },
          "metadata": {},
          "execution_count": 3
        }
      ]
    },
    {
      "cell_type": "code",
      "source": [
        "# Drop 'Carriageway' column if it exists\n",
        "df.drop(columns=['Carriageway'], inplace=True, errors='ignore')\n",
        "\n",
        "# Fill missing categorical values with the most frequent category\n",
        "for col in df.select_dtypes(include=['object']).columns:\n",
        "    df[col].fillna(df[col].mode()[0], inplace=True)\n",
        "\n",
        "# Fill missing numerical values with median\n",
        "for col in df.select_dtypes(include=['number']).columns:\n",
        "    df[col].fillna(df[col].median(), inplace=True)\n",
        "\n",
        "print(\"Missing values handled successfully!\")\n"
      ],
      "metadata": {
        "colab": {
          "base_uri": "https://localhost:8080/"
        },
        "id": "mSEoRYXv9US0",
        "outputId": "663d7de9-1bf3-4028-d6be-2ce7439d35ae"
      },
      "execution_count": null,
      "outputs": [
        {
          "output_type": "stream",
          "name": "stdout",
          "text": [
            "Missing values handled successfully!\n"
          ]
        },
        {
          "output_type": "stream",
          "name": "stderr",
          "text": [
            "<ipython-input-4-645c49ccbe50>:6: FutureWarning: A value is trying to be set on a copy of a DataFrame or Series through chained assignment using an inplace method.\n",
            "The behavior will change in pandas 3.0. This inplace method will never work because the intermediate object on which we are setting values always behaves as a copy.\n",
            "\n",
            "For example, when doing 'df[col].method(value, inplace=True)', try using 'df.method({col: value}, inplace=True)' or df[col] = df[col].method(value) instead, to perform the operation inplace on the original object.\n",
            "\n",
            "\n",
            "  df[col].fillna(df[col].mode()[0], inplace=True)\n",
            "<ipython-input-4-645c49ccbe50>:10: FutureWarning: A value is trying to be set on a copy of a DataFrame or Series through chained assignment using an inplace method.\n",
            "The behavior will change in pandas 3.0. This inplace method will never work because the intermediate object on which we are setting values always behaves as a copy.\n",
            "\n",
            "For example, when doing 'df[col].method(value, inplace=True)', try using 'df.method({col: value}, inplace=True)' or df[col] = df[col].method(value) instead, to perform the operation inplace on the original object.\n",
            "\n",
            "\n",
            "  df[col].fillna(df[col].median(), inplace=True)\n"
          ]
        }
      ]
    },
    {
      "cell_type": "code",
      "source": [
        "label_encoders = {}\n",
        "for col in df.select_dtypes(include=['object']).columns:\n",
        "    le = LabelEncoder()\n",
        "    df[col] = le.fit_transform(df[col])\n",
        "    label_encoders[col] = le\n",
        "\n",
        "print(\"Categorical encoding completed!\")\n"
      ],
      "metadata": {
        "colab": {
          "base_uri": "https://localhost:8080/"
        },
        "id": "YNcIYLa29UUo",
        "outputId": "66871b25-579f-4dce-e4d1-92e154820393"
      },
      "execution_count": null,
      "outputs": [
        {
          "output_type": "stream",
          "name": "stdout",
          "text": [
            "Categorical encoding completed!\n"
          ]
        }
      ]
    },
    {
      "cell_type": "code",
      "source": [
        "scaler = StandardScaler()\n",
        "num_features = df.select_dtypes(include=['number']).columns.tolist()\n",
        "df[num_features] = scaler.fit_transform(df[num_features])\n",
        "\n",
        "print(\"Numerical features scaled!\")\n"
      ],
      "metadata": {
        "colab": {
          "base_uri": "https://localhost:8080/"
        },
        "id": "7pavgtpA9UWu",
        "outputId": "c93cf0e2-541b-49cb-c308-b5f8e0eed8dd"
      },
      "execution_count": null,
      "outputs": [
        {
          "output_type": "stream",
          "name": "stdout",
          "text": [
            "Numerical features scaled!\n"
          ]
        }
      ]
    },
    {
      "cell_type": "code",
      "source": [
        "X = df.drop(columns=['Severity Level'])\n",
        "y = df['Severity Level']\n",
        "\n",
        "X_values = X.values\n",
        "y_values = y.values\n",
        "\n",
        "print(\"Features and target prepared!\")\n"
      ],
      "metadata": {
        "colab": {
          "base_uri": "https://localhost:8080/"
        },
        "id": "PrqgnT0m9UY0",
        "outputId": "3175293d-f6e6-42e9-e2eb-c17919f6266c"
      },
      "execution_count": null,
      "outputs": [
        {
          "output_type": "stream",
          "name": "stdout",
          "text": [
            "Features and target prepared!\n"
          ]
        }
      ]
    },
    {
      "cell_type": "code",
      "source": [
        "k = 5  # Number of neighbors\n",
        "adj_matrix = kneighbors_graph(X_values, k, mode=\"connectivity\", include_self=True)\n",
        "\n",
        "edge_index = torch.tensor(np.array(adj_matrix.nonzero()), dtype=torch.long)\n",
        "x = torch.tensor(X_values, dtype=torch.float)\n",
        "y = torch.tensor(y_values, dtype=torch.long)\n",
        "\n",
        "graph_data = Data(x=x, edge_index=edge_index, y=y)\n",
        "\n",
        "print(\"Graph construction successful!\")\n"
      ],
      "metadata": {
        "colab": {
          "base_uri": "https://localhost:8080/"
        },
        "id": "dzEEpmeT9Ua8",
        "outputId": "8c3a4afc-851f-474e-ca4c-4011383a5e7a"
      },
      "execution_count": null,
      "outputs": [
        {
          "output_type": "stream",
          "name": "stdout",
          "text": [
            "Graph construction successful!\n"
          ]
        }
      ]
    },
    {
      "cell_type": "code",
      "source": [
        "class GNN(torch.nn.Module):\n",
        "    def __init__(self, in_channels, hidden_channels, out_channels, model_type='GraphSAGE'):\n",
        "        super(GNN, self).__init__()\n",
        "        if model_type == 'GraphSAGE':\n",
        "            self.conv1 = SAGEConv(in_channels, hidden_channels)\n",
        "            self.conv2 = SAGEConv(hidden_channels, out_channels)\n",
        "        elif model_type == 'GCN':\n",
        "            self.conv1 = GCNConv(in_channels, hidden_channels)\n",
        "            self.conv2 = GCNConv(hidden_channels, out_channels)\n",
        "        elif model_type == 'GAT':\n",
        "            self.conv1 = GATConv(in_channels, hidden_channels, heads=4, concat=False)\n",
        "            self.conv2 = GATConv(hidden_channels, out_channels, heads=4, concat=False)\n",
        "        else:\n",
        "            raise ValueError(\"Invalid model type\")\n",
        "\n",
        "    def forward(self, x, edge_index):\n",
        "        x = self.conv1(x, edge_index)\n",
        "        x = F.relu(x)\n",
        "        x = self.conv2(x, edge_index)\n",
        "        return x\n",
        "\n",
        "print(\"GNN model defined!\")\n"
      ],
      "metadata": {
        "colab": {
          "base_uri": "https://localhost:8080/"
        },
        "id": "boZtT9wH9Udh",
        "outputId": "13646c86-07d0-4eea-db9c-ef6ba265fb94"
      },
      "execution_count": null,
      "outputs": [
        {
          "output_type": "stream",
          "name": "stdout",
          "text": [
            "GNN model defined!\n"
          ]
        }
      ]
    },
    {
      "cell_type": "code",
      "source": [
        "\n",
        "if y.min() < 0:\n",
        "    y = y - y.min()\n",
        "graph_data.y = y.clone().detach().long()\n"
      ],
      "metadata": {
        "id": "EOOuVUnkAkuZ"
      },
      "execution_count": null,
      "outputs": []
    },
    {
      "cell_type": "code",
      "source": [
        "\n",
        "print(\"Unique target values in graph_data.y:\", graph_data.y.unique())\n"
      ],
      "metadata": {
        "colab": {
          "base_uri": "https://localhost:8080/"
        },
        "id": "N1b7ECII9UfZ",
        "outputId": "b4f8b1dd-a810-4449-a6bf-7e7172a061d1"
      },
      "execution_count": null,
      "outputs": [
        {
          "output_type": "stream",
          "name": "stdout",
          "text": [
            "Unique target values in graph_data.y: tensor([0, 1])\n"
          ]
        }
      ]
    },
    {
      "cell_type": "code",
      "source": [
        "!pip install pytorch-tabnet\n"
      ],
      "metadata": {
        "colab": {
          "base_uri": "https://localhost:8080/"
        },
        "id": "6S-MvErC-aNm",
        "outputId": "571cf0a8-9882-4f16-abc5-8a4c18a918aa"
      },
      "execution_count": null,
      "outputs": [
        {
          "output_type": "stream",
          "name": "stdout",
          "text": [
            "Requirement already satisfied: pytorch-tabnet in /usr/local/lib/python3.11/dist-packages (4.1.0)\n",
            "Requirement already satisfied: numpy>=1.17 in /usr/local/lib/python3.11/dist-packages (from pytorch-tabnet) (2.0.2)\n",
            "Requirement already satisfied: scikit_learn>0.21 in /usr/local/lib/python3.11/dist-packages (from pytorch-tabnet) (1.6.1)\n",
            "Requirement already satisfied: scipy>1.4 in /usr/local/lib/python3.11/dist-packages (from pytorch-tabnet) (1.14.1)\n",
            "Requirement already satisfied: torch>=1.3 in /usr/local/lib/python3.11/dist-packages (from pytorch-tabnet) (2.6.0+cu124)\n",
            "Requirement already satisfied: tqdm>=4.36 in /usr/local/lib/python3.11/dist-packages (from pytorch-tabnet) (4.67.1)\n",
            "Requirement already satisfied: joblib>=1.2.0 in /usr/local/lib/python3.11/dist-packages (from scikit_learn>0.21->pytorch-tabnet) (1.4.2)\n",
            "Requirement already satisfied: threadpoolctl>=3.1.0 in /usr/local/lib/python3.11/dist-packages (from scikit_learn>0.21->pytorch-tabnet) (3.6.0)\n",
            "Requirement already satisfied: filelock in /usr/local/lib/python3.11/dist-packages (from torch>=1.3->pytorch-tabnet) (3.18.0)\n",
            "Requirement already satisfied: typing-extensions>=4.10.0 in /usr/local/lib/python3.11/dist-packages (from torch>=1.3->pytorch-tabnet) (4.13.2)\n",
            "Requirement already satisfied: networkx in /usr/local/lib/python3.11/dist-packages (from torch>=1.3->pytorch-tabnet) (3.4.2)\n",
            "Requirement already satisfied: jinja2 in /usr/local/lib/python3.11/dist-packages (from torch>=1.3->pytorch-tabnet) (3.1.6)\n",
            "Requirement already satisfied: fsspec in /usr/local/lib/python3.11/dist-packages (from torch>=1.3->pytorch-tabnet) (2025.3.2)\n",
            "Requirement already satisfied: nvidia-cuda-nvrtc-cu12==12.4.127 in /usr/local/lib/python3.11/dist-packages (from torch>=1.3->pytorch-tabnet) (12.4.127)\n",
            "Requirement already satisfied: nvidia-cuda-runtime-cu12==12.4.127 in /usr/local/lib/python3.11/dist-packages (from torch>=1.3->pytorch-tabnet) (12.4.127)\n",
            "Requirement already satisfied: nvidia-cuda-cupti-cu12==12.4.127 in /usr/local/lib/python3.11/dist-packages (from torch>=1.3->pytorch-tabnet) (12.4.127)\n",
            "Requirement already satisfied: nvidia-cudnn-cu12==9.1.0.70 in /usr/local/lib/python3.11/dist-packages (from torch>=1.3->pytorch-tabnet) (9.1.0.70)\n",
            "Requirement already satisfied: nvidia-cublas-cu12==12.4.5.8 in /usr/local/lib/python3.11/dist-packages (from torch>=1.3->pytorch-tabnet) (12.4.5.8)\n",
            "Requirement already satisfied: nvidia-cufft-cu12==11.2.1.3 in /usr/local/lib/python3.11/dist-packages (from torch>=1.3->pytorch-tabnet) (11.2.1.3)\n",
            "Requirement already satisfied: nvidia-curand-cu12==10.3.5.147 in /usr/local/lib/python3.11/dist-packages (from torch>=1.3->pytorch-tabnet) (10.3.5.147)\n",
            "Requirement already satisfied: nvidia-cusolver-cu12==11.6.1.9 in /usr/local/lib/python3.11/dist-packages (from torch>=1.3->pytorch-tabnet) (11.6.1.9)\n",
            "Requirement already satisfied: nvidia-cusparse-cu12==12.3.1.170 in /usr/local/lib/python3.11/dist-packages (from torch>=1.3->pytorch-tabnet) (12.3.1.170)\n",
            "Requirement already satisfied: nvidia-cusparselt-cu12==0.6.2 in /usr/local/lib/python3.11/dist-packages (from torch>=1.3->pytorch-tabnet) (0.6.2)\n",
            "Requirement already satisfied: nvidia-nccl-cu12==2.21.5 in /usr/local/lib/python3.11/dist-packages (from torch>=1.3->pytorch-tabnet) (2.21.5)\n",
            "Requirement already satisfied: nvidia-nvtx-cu12==12.4.127 in /usr/local/lib/python3.11/dist-packages (from torch>=1.3->pytorch-tabnet) (12.4.127)\n",
            "Requirement already satisfied: nvidia-nvjitlink-cu12==12.4.127 in /usr/local/lib/python3.11/dist-packages (from torch>=1.3->pytorch-tabnet) (12.4.127)\n",
            "Requirement already satisfied: triton==3.2.0 in /usr/local/lib/python3.11/dist-packages (from torch>=1.3->pytorch-tabnet) (3.2.0)\n",
            "Requirement already satisfied: sympy==1.13.1 in /usr/local/lib/python3.11/dist-packages (from torch>=1.3->pytorch-tabnet) (1.13.1)\n",
            "Requirement already satisfied: mpmath<1.4,>=1.1.0 in /usr/local/lib/python3.11/dist-packages (from sympy==1.13.1->torch>=1.3->pytorch-tabnet) (1.3.0)\n",
            "Requirement already satisfied: MarkupSafe>=2.0 in /usr/local/lib/python3.11/dist-packages (from jinja2->torch>=1.3->pytorch-tabnet) (3.0.2)\n"
          ]
        }
      ]
    },
    {
      "cell_type": "code",
      "source": [
        "device = torch.device(\"cuda\" if torch.cuda.is_available() else \"cpu\")\n"
      ],
      "metadata": {
        "id": "brB6aACC_-v4"
      },
      "execution_count": null,
      "outputs": []
    },
    {
      "cell_type": "code",
      "source": [
        "import torch\n",
        "import torch.nn as nn\n",
        "import torch.nn.functional as F\n",
        "from torch_geometric.nn import SAGEConv\n",
        "from sklearn.model_selection import train_test_split\n",
        "from sklearn.ensemble import RandomForestClassifier\n",
        "from sklearn.metrics import accuracy_score\n",
        "import numpy as np\n",
        "import matplotlib.pyplot as plt\n",
        "from sklearn.preprocessing import StandardScaler\n",
        "\n",
        "device = torch.device('cuda' if torch.cuda.is_available() else 'cpu')\n",
        "\n",
        "# Updated GraphSAGE with deeper layers and residual connection\n",
        "class GraphSAGEEncoder(nn.Module):\n",
        "    def __init__(self, in_channels, hidden_channels, dropout=0.2):\n",
        "        super(GraphSAGEEncoder, self).__init__()\n",
        "        self.conv1 = SAGEConv(in_channels, hidden_channels)\n",
        "        self.conv2 = SAGEConv(hidden_channels, hidden_channels)\n",
        "        self.conv3 = SAGEConv(hidden_channels, hidden_channels)\n",
        "\n",
        "        self.bn1 = nn.BatchNorm1d(hidden_channels)\n",
        "        self.bn2 = nn.BatchNorm1d(hidden_channels)\n",
        "        self.bn3 = nn.BatchNorm1d(hidden_channels)\n",
        "        self.dropout = dropout\n",
        "\n",
        "    def forward(self, x, edge_index):\n",
        "        x = F.relu(self.bn1(self.conv1(x, edge_index)))\n",
        "        x = F.dropout(x, p=self.dropout, training=self.training)\n",
        "        x = F.relu(self.bn2(self.conv2(x, edge_index)))\n",
        "        x = F.dropout(x, p=self.dropout, training=self.training)\n",
        "        x = F.relu(self.bn3(self.conv3(x, edge_index)))\n",
        "        return x\n",
        "\n",
        "print(\"🔥 Enhanced GraphSAGE model ready!\")\n",
        "\n",
        "# Hyperparameters\n",
        "hidden_size = 256\n",
        "learning_rate = 0.1\n",
        "num_epochs = 200\n",
        "\n",
        "graph_data = graph_data.to(device)\n",
        "\n",
        "# Split data\n",
        "num_nodes = graph_data.num_nodes\n",
        "train_idx, test_idx = train_test_split(range(num_nodes), test_size=0.2, random_state=42, stratify=graph_data.y.cpu())\n",
        "train_mask = torch.tensor(train_idx, dtype=torch.long, device=device)\n",
        "test_mask = torch.tensor(test_idx, dtype=torch.long, device=device)\n",
        "\n",
        "# GNN Encoder\n",
        "gnn_encoder = GraphSAGEEncoder(graph_data.x.shape[1], hidden_size).to(device)\n",
        "optimizer = torch.optim.AdamW(gnn_encoder.parameters(), lr=learning_rate, weight_decay=5e-4)\n",
        "scheduler = torch.optim.lr_scheduler.ReduceLROnPlateau(optimizer, mode='max', factor=0.5, patience=10, verbose=True)\n",
        "\n",
        "gnn_train_acc = []\n",
        "gnn_test_acc = []\n",
        "\n",
        "for epoch in range(1, num_epochs + 1):\n",
        "    gnn_encoder.train()\n",
        "    optimizer.zero_grad()\n",
        "    out = gnn_encoder(graph_data.x, graph_data.edge_index)\n",
        "    loss = F.cross_entropy(out[train_mask], graph_data.y[train_mask])\n",
        "    loss.backward()\n",
        "    optimizer.step()\n",
        "\n",
        "    gnn_encoder.eval()\n",
        "    with torch.no_grad():\n",
        "        preds = out.argmax(dim=1)\n",
        "        train_acc = accuracy_score(graph_data.y[train_mask].cpu(), preds[train_mask].cpu())\n",
        "        test_acc = accuracy_score(graph_data.y[test_mask].cpu(), preds[test_mask].cpu())\n",
        "        gnn_train_acc.append(train_acc)\n",
        "        gnn_test_acc.append(test_acc)\n",
        "        scheduler.step(test_acc)\n",
        "\n",
        "    if epoch % 10 == 0 or epoch == 1:\n",
        "        print(f\"Epoch {epoch} - Loss: {loss.item():.4f} - Train Acc: {train_acc:.4f} - Test Acc: {test_acc:.4f}\")\n",
        "\n",
        "print(\"\\n✅ GNN Training Done!\")\n",
        "\n",
        "# Extract embeddings\n",
        "gnn_encoder.eval()\n",
        "with torch.no_grad():\n",
        "    gnn_embeddings = gnn_encoder(graph_data.x, graph_data.edge_index)\n",
        "\n",
        "X = gnn_embeddings.cpu().numpy()\n",
        "y = graph_data.y.cpu().numpy()\n",
        "X_train, X_test = X[train_mask.cpu()], X[test_mask.cpu()]\n",
        "y_train, y_test = y[train_mask.cpu()], y[test_mask.cpu()]\n",
        "\n",
        "\n",
        "scaler = StandardScaler()\n",
        "X_train = scaler.fit_transform(X_train)\n",
        "X_test = scaler.transform(X_test)\n",
        "\n",
        "\n",
        "print(\"\\n🌲 Training Random Forest with tuned params...\\n\" + \"=\" * 40)\n",
        "rf = RandomForestClassifier(\n",
        "    n_estimators=500,\n",
        "    max_depth=40,\n",
        "    min_samples_split=3,\n",
        "    min_samples_leaf=1,\n",
        "    class_weight=\"balanced\",\n",
        "    random_state=42,\n",
        "    n_jobs=-1\n",
        ")\n",
        "\n",
        "rf.fit(X_train, y_train)\n",
        "rf_preds = rf.predict(X_test)\n",
        "rf_acc = accuracy_score(y_test, rf_preds)\n",
        "print(f\"\\n📈 Final Accuracy (GraphSAGE + RF): {rf_acc:.4f}\")\n",
        "\n",
        "# Plot training curve\n",
        "plt.figure(figsize=(10, 6))\n",
        "plt.plot(range(1, len(gnn_train_acc)+1), gnn_train_acc, label=\"GNN Train Accuracy\", color='blue')\n",
        "plt.plot(range(1, len(gnn_test_acc)+1), gnn_test_acc, label=\"GNN Test Accuracy\", color='orange')\n",
        "plt.title(\"GraphSAGE GNN Training Accuracy\")\n",
        "plt.xlabel(\"Epoch\")\n",
        "plt.ylabel(\"Accuracy\")\n",
        "plt.legend()\n",
        "plt.grid(True)\n",
        "plt.show()\n"
      ],
      "metadata": {
        "colab": {
          "base_uri": "https://localhost:8080/",
          "height": 1000
        },
        "id": "ObQUuJGt9Ui8",
        "outputId": "7f786066-93f5-4d4d-93d9-4f1c6c79d1de"
      },
      "execution_count": null,
      "outputs": [
        {
          "output_type": "stream",
          "name": "stdout",
          "text": [
            "🔥 Enhanced GraphSAGE model ready!\n"
          ]
        },
        {
          "output_type": "stream",
          "name": "stderr",
          "text": [
            "/usr/local/lib/python3.11/dist-packages/torch/optim/lr_scheduler.py:62: UserWarning: The verbose parameter is deprecated. Please use get_last_lr() to access the learning rate.\n",
            "  warnings.warn(\n"
          ]
        },
        {
          "output_type": "stream",
          "name": "stdout",
          "text": [
            "Epoch 1 - Loss: 5.7954 - Train Acc: 0.0014 - Test Acc: 0.0020\n",
            "Epoch 10 - Loss: 3.7353 - Train Acc: 0.6841 - Test Acc: 0.6885\n",
            "Epoch 20 - Loss: 2.5246 - Train Acc: 0.7221 - Test Acc: 0.7115\n",
            "Epoch 30 - Loss: 1.6727 - Train Acc: 0.7971 - Test Acc: 0.7810\n",
            "Epoch 40 - Loss: 1.0362 - Train Acc: 0.8778 - Test Acc: 0.8625\n",
            "Epoch 50 - Loss: 0.6115 - Train Acc: 0.9293 - Test Acc: 0.9190\n",
            "Epoch 60 - Loss: 0.3216 - Train Acc: 0.9606 - Test Acc: 0.9500\n",
            "Epoch 70 - Loss: 0.1833 - Train Acc: 0.9736 - Test Acc: 0.9610\n",
            "Epoch 80 - Loss: 0.1201 - Train Acc: 0.9795 - Test Acc: 0.9750\n",
            "Epoch 90 - Loss: 0.0863 - Train Acc: 0.9876 - Test Acc: 0.9780\n",
            "Epoch 100 - Loss: 0.0695 - Train Acc: 0.9884 - Test Acc: 0.9830\n",
            "Epoch 110 - Loss: 0.0580 - Train Acc: 0.9915 - Test Acc: 0.9860\n",
            "Epoch 120 - Loss: 0.0544 - Train Acc: 0.9909 - Test Acc: 0.9835\n",
            "Epoch 130 - Loss: 0.0505 - Train Acc: 0.9924 - Test Acc: 0.9835\n",
            "Epoch 140 - Loss: 0.0465 - Train Acc: 0.9930 - Test Acc: 0.9830\n",
            "Epoch 150 - Loss: 0.0462 - Train Acc: 0.9935 - Test Acc: 0.9825\n",
            "Epoch 160 - Loss: 0.0455 - Train Acc: 0.9941 - Test Acc: 0.9840\n",
            "Epoch 170 - Loss: 0.0448 - Train Acc: 0.9938 - Test Acc: 0.9835\n",
            "Epoch 180 - Loss: 0.0430 - Train Acc: 0.9951 - Test Acc: 0.9840\n",
            "Epoch 190 - Loss: 0.0430 - Train Acc: 0.9958 - Test Acc: 0.9845\n",
            "Epoch 200 - Loss: 0.0449 - Train Acc: 0.9944 - Test Acc: 0.9860\n",
            "\n",
            "✅ GNN Training Done!\n",
            "\n",
            "🌲 Training Random Forest with tuned params...\n",
            "========================================\n",
            "\n",
            "📈 Final Accuracy (GraphSAGE + RF): 0.9880\n"
          ]
        },
        {
          "output_type": "display_data",
          "data": {
            "text/plain": [
              "<Figure size 1000x600 with 1 Axes>"
            ],
            "image/png": "[encoded data removed]"
          },
          "metadata": {}
        }
      ]
    },
    {
      "cell_type": "code",
      "source": [
        "\n",
        "import joblib\n",
        "\n",
        "torch.save(gnn_encoder.state_dict(), 'gnn_model.pth')\n",
        "joblib.dump(scaler, 'scaler.pkl')\n",
        "joblib.dump(label_encoders, 'label_encoders.pkl')\n",
        "joblib.dump(rf, 'random_forest.pkl')"
      ],
      "metadata": {
        "id": "mazVREImBlez",
        "outputId": "0ae0a481-d6b2-4add-b6b7-7ee98e2c370d",
        "colab": {
          "base_uri": "https://localhost:8080/"
        }
      },
      "execution_count": null,
      "outputs": [
        {
          "output_type": "execute_result",
          "data": {
            "text/plain": [
              "['random_forest.pkl']"
            ]
          },
          "metadata": {},
          "execution_count": 16
        }
      ]
    }
  ]
}